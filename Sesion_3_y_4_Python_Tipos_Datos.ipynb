{
  "cells": [
    {
      "cell_type": "markdown",
      "metadata": {
        "id": "view-in-github",
        "colab_type": "text"
      },
      "source": [
        "<a href=\"https://colab.research.google.com/github/josepaul1986/aprendiendo-python/blob/main/Sesion_3_y_4_Python_Tipos_Datos.ipynb\" target=\"_parent\"><img src=\"https://colab.research.google.com/assets/colab-badge.svg\" alt=\"Open In Colab\"/></a>"
      ]
    },
    {
      "cell_type": "markdown",
      "metadata": {
        "id": "VmkqkWb9tr72"
      },
      "source": [
        "# <center> PYTHON - Sesión 2 </center>\n",
        "\n",
        "## 1. Cadenas (clase str)\n",
        "Secuencia de caracteres alfanuméricos que representan texto. Se escriben entre comillas sencillas ’ o dobles “."
      ]
    },
    {
      "cell_type": "code",
      "execution_count": null,
      "metadata": {
        "id": "vqi6kXHzt_pJ"
      },
      "outputs": [],
      "source": [
        "my_string = \"Let’s Learn Python!\"\n",
        "\n",
        "another_string = 'It may seem difficult first, but youcan do it!'"
      ]
    },
    {
      "cell_type": "markdown",
      "source": [
        "Cadenas multilinea en Python"
      ],
      "metadata": {
        "id": "uuYBLWzsigKZ"
      }
    },
    {
      "cell_type": "code",
      "source": [
        "a_long_string = '''Yes, you can even master multi-line\n",
        "strings esto es una plantilla\n",
        " para responder ante un reclamo\n",
        " y/o enviar un saludo de cumpleaños,\n",
        " dependiendo el dia\n",
        " that cover more than one line\n",
        " with some practice'''"
      ],
      "metadata": {
        "id": "aGjaS0GUilo3"
      },
      "execution_count": null,
      "outputs": []
    },
    {
      "cell_type": "code",
      "source": [
        "cadena = 'Python'"
      ],
      "metadata": {
        "id": "-709xBhpzs8E"
      },
      "execution_count": null,
      "outputs": []
    },
    {
      "cell_type": "code",
      "source": [
        "#Crear Palabra Tony usando la cadena anterior\n",
        "c = cadena\n",
        "tony = c[2] + c[4] + c[5] + c[1]\n",
        "print(tony)"
      ],
      "metadata": {
        "colab": {
          "base_uri": "https://localhost:8080/"
        },
        "id": "oJmQnlaNjre5",
        "outputId": "0b5650c2-319f-431a-f1d6-158c7a55546b"
      },
      "execution_count": null,
      "outputs": [
        {
          "output_type": "stream",
          "name": "stdout",
          "text": [
            "tony\n"
          ]
        }
      ]
    },
    {
      "cell_type": "markdown",
      "metadata": {
        "id": "wZSV3RSeuBa4"
      },
      "source": [
        "## Acceso a los elementos de una cadena\n",
        "Cada carácter tiene asociado un índice que permite acceder a él.\n",
        "\n",
        "### Cadena-:\tP\t| y |\tt | h |\to |\tn\n",
        "### Índice(+)\t0\t| 1 |\t2 |\t3 |\t4 |\t5\n",
        "### Índice(-) -6 |\t-5|\t-4|\t-3|\t-2|\t-1\n"
      ]
    },
    {
      "cell_type": "markdown",
      "metadata": {
        "id": "8tMZBDh1u8-t"
      },
      "source": [
        "* c[i] devuelve el carácter de la cadena c con el índice i.\n",
        "\n",
        " ### El índice del primer carácter de la cadena es 0.\n",
        "\n",
        "También se pueden utilizar índices negativos para recorrer la cadena del final al principio.\n",
        "\n",
        " El índice del último carácter de la cadena es -1."
      ]
    },
    {
      "cell_type": "code",
      "execution_count": null,
      "metadata": {
        "id": "-h_yHyAXvSc-"
      },
      "outputs": [],
      "source": [
        "palabra = 'El HOMBRE araña'"
      ]
    },
    {
      "cell_type": "code",
      "source": [
        "print(palabra)"
      ],
      "metadata": {
        "id": "bGABKqb3HcXS",
        "colab": {
          "base_uri": "https://localhost:8080/"
        },
        "outputId": "bdaf6929-e92e-47ac-a7c6-82ebe702e265"
      },
      "execution_count": null,
      "outputs": [
        {
          "output_type": "stream",
          "name": "stdout",
          "text": [
            "El HOMBRE araña\n"
          ]
        }
      ]
    },
    {
      "cell_type": "code",
      "execution_count": null,
      "metadata": {
        "id": "eaZN7XwnvH_A",
        "colab": {
          "base_uri": "https://localhost:8080/",
          "height": 56
        },
        "outputId": "060cf7b3-2c39-4d94-b1be-385c1fec90c6"
      },
      "outputs": [
        {
          "output_type": "execute_result",
          "data": {
            "text/plain": [
              "'E'"
            ],
            "application/vnd.google.colaboratory.intrinsic+json": {
              "type": "string"
            }
          },
          "metadata": {},
          "execution_count": 10
        }
      ],
      "source": [
        "palabra[0]"
      ]
    },
    {
      "cell_type": "code",
      "source": [
        "#El HOMBRE araña\n",
        "palabra[2]"
      ],
      "metadata": {
        "id": "EaiPkcSuHt4E",
        "colab": {
          "base_uri": "https://localhost:8080/",
          "height": 56
        },
        "outputId": "9a2e8464-1ff8-4879-fefa-6679255b3b98"
      },
      "execution_count": null,
      "outputs": [
        {
          "output_type": "execute_result",
          "data": {
            "text/plain": [
              "' '"
            ],
            "application/vnd.google.colaboratory.intrinsic+json": {
              "type": "string"
            }
          },
          "metadata": {},
          "execution_count": 11
        }
      ]
    },
    {
      "cell_type": "code",
      "source": [
        "#El HOMBRE araña\n",
        "palabra[-1]"
      ],
      "metadata": {
        "id": "hhHggQ1PHqSk",
        "colab": {
          "base_uri": "https://localhost:8080/",
          "height": 56
        },
        "outputId": "0dc0bfcb-7fc8-4075-e92b-eb2edaa493dc"
      },
      "execution_count": null,
      "outputs": [
        {
          "output_type": "execute_result",
          "data": {
            "text/plain": [
              "'a'"
            ],
            "application/vnd.google.colaboratory.intrinsic+json": {
              "type": "string"
            }
          },
          "metadata": {},
          "execution_count": 12
        }
      ]
    },
    {
      "cell_type": "code",
      "source": [
        "#Hombre\n",
        "palabra[3:9]"
      ],
      "metadata": {
        "colab": {
          "base_uri": "https://localhost:8080/",
          "height": 56
        },
        "id": "F6wx3TAjmD-B",
        "outputId": "c1197411-f9bf-4cdb-c10c-8d1eae9f11c3"
      },
      "execution_count": null,
      "outputs": [
        {
          "output_type": "execute_result",
          "data": {
            "text/plain": [
              "'HOMBRE'"
            ],
            "application/vnd.google.colaboratory.intrinsic+json": {
              "type": "string"
            }
          },
          "metadata": {},
          "execution_count": 16
        }
      ]
    },
    {
      "cell_type": "code",
      "source": [
        "#  palabra = 'El HOMBRE araña'\n",
        "# REGLA !!! = Que al ultimo valor de la cadena a la que queremos acceder debemos de sumarle 1\n",
        "# [posicion inicial : posicion final + 1]\n",
        "palabra[3:8+1]"
      ],
      "metadata": {
        "id": "o1PFgf_R1ffk",
        "colab": {
          "base_uri": "https://localhost:8080/",
          "height": 56
        },
        "outputId": "52e18ea9-f12f-4fc9-dc6b-f5291ce8586c"
      },
      "execution_count": null,
      "outputs": [
        {
          "output_type": "execute_result",
          "data": {
            "text/plain": [
              "'HOMBRE'"
            ],
            "application/vnd.google.colaboratory.intrinsic+json": {
              "type": "string"
            }
          },
          "metadata": {},
          "execution_count": 17
        }
      ]
    },
    {
      "cell_type": "code",
      "source": [
        "#palabra = 'El HOMBRE araña'\n",
        "palabra[-12:-7+1]"
      ],
      "metadata": {
        "id": "1BnGJwhp3AnT",
        "colab": {
          "base_uri": "https://localhost:8080/",
          "height": 56
        },
        "outputId": "dbbf4cfc-7c17-4bd9-ce97-41e5b686d90e"
      },
      "execution_count": null,
      "outputs": [
        {
          "output_type": "execute_result",
          "data": {
            "text/plain": [
              "'HOMBRE'"
            ],
            "application/vnd.google.colaboratory.intrinsic+json": {
              "type": "string"
            }
          },
          "metadata": {},
          "execution_count": 18
        }
      ]
    },
    {
      "cell_type": "code",
      "source": [
        "#palabra = 'El HOMBRE araña'\n",
        "palabra[3:15]"
      ],
      "metadata": {
        "id": "cH8UoPBV3eTL",
        "colab": {
          "base_uri": "https://localhost:8080/",
          "height": 56
        },
        "outputId": "edf09b69-dccf-4daf-86c7-bd4c6e1c0781"
      },
      "execution_count": null,
      "outputs": [
        {
          "output_type": "execute_result",
          "data": {
            "text/plain": [
              "'HOMBRE araña'"
            ],
            "application/vnd.google.colaboratory.intrinsic+json": {
              "type": "string"
            }
          },
          "metadata": {},
          "execution_count": 19
        }
      ]
    },
    {
      "cell_type": "code",
      "source": [
        "#palabra = 'El HOMBRE araña'\n",
        "palabra[3:]"
      ],
      "metadata": {
        "id": "NKbSGmOv3rJ9",
        "colab": {
          "base_uri": "https://localhost:8080/",
          "height": 56
        },
        "outputId": "628d5636-68ee-408a-87e0-f4d35e53c450"
      },
      "execution_count": null,
      "outputs": [
        {
          "output_type": "execute_result",
          "data": {
            "text/plain": [
              "'HOMBRE araña'"
            ],
            "application/vnd.google.colaboratory.intrinsic+json": {
              "type": "string"
            }
          },
          "metadata": {},
          "execution_count": 20
        }
      ]
    },
    {
      "cell_type": "code",
      "source": [
        "#palabra = 'El HOMBRE araña'\n",
        "palabra[-12:8+1]"
      ],
      "metadata": {
        "id": "khnVgVkN3yKG",
        "colab": {
          "base_uri": "https://localhost:8080/",
          "height": 56
        },
        "outputId": "4f767cbc-160a-4c16-880c-34957be97dc5"
      },
      "execution_count": null,
      "outputs": [
        {
          "output_type": "execute_result",
          "data": {
            "text/plain": [
              "'HOMBRE'"
            ],
            "application/vnd.google.colaboratory.intrinsic+json": {
              "type": "string"
            }
          },
          "metadata": {},
          "execution_count": 21
        }
      ]
    },
    {
      "cell_type": "code",
      "source": [
        "#palabra = 'El HOMBRE araña'\n",
        "palabra[10:14+1]"
      ],
      "metadata": {
        "id": "dzVKZB8dH2Sy",
        "colab": {
          "base_uri": "https://localhost:8080/",
          "height": 56
        },
        "outputId": "c6a4561e-0d45-4e72-8e58-68f20208f6b5"
      },
      "execution_count": null,
      "outputs": [
        {
          "output_type": "execute_result",
          "data": {
            "text/plain": [
              "'araña'"
            ],
            "application/vnd.google.colaboratory.intrinsic+json": {
              "type": "string"
            }
          },
          "metadata": {},
          "execution_count": 22
        }
      ]
    },
    {
      "cell_type": "code",
      "source": [
        "#palabra = 'El HOMBRE araña'\n",
        "#palabra[-5:]\n",
        "palabra[10:]"
      ],
      "metadata": {
        "colab": {
          "base_uri": "https://localhost:8080/",
          "height": 56
        },
        "id": "zHnxxBfWpX1Q",
        "outputId": "a449facf-92d2-4325-efe9-ffed0bf2f065"
      },
      "execution_count": null,
      "outputs": [
        {
          "output_type": "execute_result",
          "data": {
            "text/plain": [
              "'araña'"
            ],
            "application/vnd.google.colaboratory.intrinsic+json": {
              "type": "string"
            }
          },
          "metadata": {},
          "execution_count": 29
        }
      ]
    },
    {
      "cell_type": "code",
      "source": [
        "#palabra = 'El HOMBRE araña'\n",
        "palabra[-5:]"
      ],
      "metadata": {
        "id": "u4Ep6Sch2jHg",
        "colab": {
          "base_uri": "https://localhost:8080/",
          "height": 56
        },
        "outputId": "b726cf06-1666-4937-98f0-e36b0ab8ebc6"
      },
      "execution_count": null,
      "outputs": [
        {
          "output_type": "execute_result",
          "data": {
            "text/plain": [
              "'araña'"
            ],
            "application/vnd.google.colaboratory.intrinsic+json": {
              "type": "string"
            }
          },
          "metadata": {},
          "execution_count": 23
        }
      ]
    },
    {
      "cell_type": "markdown",
      "metadata": {
        "id": "l55XpJFtwUdx"
      },
      "source": [
        "## Operaciones con cadenas\n",
        "* c1 + c2 : Devuelve la cadena resultado de concatenar las cadenas c1 y c2.\n",
        "* c * n : Devuelve la cadena resultado de concatenar n copias de la cadena c.\n",
        "* c1 in c2 : Devuelve True si c1 es una cadena concenida * en c2 y False en caso contrario.\n",
        "* c1 not in c2 : Devuelve True si c1 es una cadena no concenida en c2 y False en caso contrario."
      ]
    },
    {
      "cell_type": "code",
      "execution_count": null,
      "metadata": {
        "id": "yDByg2NDF_mN"
      },
      "outputs": [],
      "source": [
        "my_string = \"Let’s Learn Python!\"\n",
        "another_string = 'It may seem difficult first, but you can do it!'"
      ]
    },
    {
      "cell_type": "code",
      "execution_count": null,
      "metadata": {
        "id": "vQKrJs7kMrgF",
        "colab": {
          "base_uri": "https://localhost:8080/",
          "height": 56
        },
        "outputId": "35aa3c78-9cb2-43ca-be37-3e6709fa4ec0"
      },
      "outputs": [
        {
          "output_type": "execute_result",
          "data": {
            "text/plain": [
              "'Let’s Learn Python! It may seem difficult first, but you can do it!  hola a todos'"
            ],
            "application/vnd.google.colaboratory.intrinsic+json": {
              "type": "string"
            }
          },
          "metadata": {},
          "execution_count": 35
        }
      ],
      "source": [
        "my_string + another_string + ' hola a todos'"
      ]
    },
    {
      "cell_type": "code",
      "source": [
        "print(my_string, another_string, sep = '\\n')\n",
        "print(my_string, another_string, \"Let's wrap this up!\")"
      ],
      "metadata": {
        "id": "mDpktxZY64Dd",
        "colab": {
          "base_uri": "https://localhost:8080/"
        },
        "outputId": "311b4b90-dbd6-43f5-cff0-d9f6c56798e9"
      },
      "execution_count": null,
      "outputs": [
        {
          "output_type": "stream",
          "name": "stdout",
          "text": [
            "Let’s Learn Python!\n",
            "It may seem difficult first, but you can do it!\n",
            "Let’s Learn Python! It may seem difficult first, but you can do it! Let's wrap this up!\n"
          ]
        }
      ]
    },
    {
      "cell_type": "code",
      "source": [
        "print(my_string, another_string, sep = '|')"
      ],
      "metadata": {
        "id": "qkZa1RLj7Qst",
        "colab": {
          "base_uri": "https://localhost:8080/"
        },
        "outputId": "d0ae3e76-803d-4b68-8648-edc15eb6cf47"
      },
      "execution_count": null,
      "outputs": [
        {
          "output_type": "stream",
          "name": "stdout",
          "text": [
            "Let’s Learn Python!|It may seem difficult first, but you can do it!\n"
          ]
        }
      ]
    },
    {
      "cell_type": "code",
      "source": [
        "my_string_2 = my_string * 3\n",
        "print(my_string_2)"
      ],
      "metadata": {
        "colab": {
          "base_uri": "https://localhost:8080/"
        },
        "id": "cupe3PKUsQAD",
        "outputId": "298e1668-ccd4-4037-dc96-5d17491fa190"
      },
      "execution_count": null,
      "outputs": [
        {
          "output_type": "stream",
          "name": "stdout",
          "text": [
            "Let’s Learn Python!Let’s Learn Python!Let’s Learn Python!\n"
          ]
        }
      ]
    },
    {
      "cell_type": "code",
      "execution_count": null,
      "metadata": {
        "id": "fCJyviVmwjfo",
        "colab": {
          "base_uri": "https://localhost:8080/"
        },
        "outputId": "efab13f6-dfb8-4c4a-dda1-4ec500ef8729"
      },
      "outputs": [
        {
          "output_type": "execute_result",
          "data": {
            "text/plain": [
              "True"
            ]
          },
          "metadata": {},
          "execution_count": 44
        }
      ],
      "source": [
        "#my_string = \"Let’s Learn Python!\"\n",
        "'y' in my_string"
      ]
    },
    {
      "cell_type": "code",
      "execution_count": null,
      "metadata": {
        "id": "QzwkdCzVNkKO",
        "colab": {
          "base_uri": "https://localhost:8080/"
        },
        "outputId": "588e7df1-d1de-4de0-f559-b60053d926d3"
      },
      "outputs": [
        {
          "output_type": "execute_result",
          "data": {
            "text/plain": [
              "False"
            ]
          },
          "metadata": {},
          "execution_count": 45
        }
      ],
      "source": [
        "'Y' in my_string"
      ]
    },
    {
      "cell_type": "code",
      "execution_count": null,
      "metadata": {
        "id": "5LMJHm33wkpH",
        "colab": {
          "base_uri": "https://localhost:8080/"
        },
        "outputId": "4e197936-938a-4948-aa10-91fad1753a1a"
      },
      "outputs": [
        {
          "output_type": "execute_result",
          "data": {
            "text/plain": [
              "True"
            ]
          },
          "metadata": {},
          "execution_count": 46
        }
      ],
      "source": [
        "'tho' in my_string"
      ]
    },
    {
      "cell_type": "code",
      "execution_count": null,
      "metadata": {
        "id": "qb1lbY_ewl3g",
        "colab": {
          "base_uri": "https://localhost:8080/"
        },
        "outputId": "48ae75ce-5bd5-4e3c-8d48-89b62fcc69e3"
      },
      "outputs": [
        {
          "output_type": "execute_result",
          "data": {
            "text/plain": [
              "True"
            ]
          },
          "metadata": {},
          "execution_count": 47
        }
      ],
      "source": [
        "'to' not in my_string"
      ]
    },
    {
      "cell_type": "markdown",
      "source": [
        "## Programación Orientada a Objetos:\n",
        "\n",
        "1. Clase:\n",
        "* Definición: Una clase es como un plano o una plantilla para crear objetos. Especifica los atributos y comportamientos que los objetos de esa clase tendrán.\n",
        "* Analogía: Puedes pensar en una clase como un molde para hacer galletas. El molde define la forma y el tamaño de todas las galletas que vas a hacer, pero no es en sí misma una galleta.\n",
        "2. Objeto:\n",
        "* Definición: Un objeto es una instancia de una clase. Es una entidad concreta que tiene estado (atributos) y comportamiento (métodos) definidos por su clase.\n",
        "* Analogía: Si la clase es el molde de galletas, entonces un objeto sería una galleta específica que has hecho usando ese molde. Cada galleta puede tener características individuales (como color, sabor, etc.) pero comparten la misma forma y estructura básica definida por el molde.\n",
        "3. Método:\n",
        "* Definición: Un método es una función asociada a una clase que define el comportamiento de los objetos de esa clase. Los métodos son acciones que un objeto puede realizar.\n",
        "* Analogía: Los métodos son como recetas para hacer cosas con las galletas. Por ejemplo, podrías tener un método llamado \"decorar\" que pone glaseado en las galletas. Este método define una acción que las galletas (objetos) pueden realizar.\n"
      ],
      "metadata": {
        "id": "WAwA-gmMZL9q"
      }
    },
    {
      "cell_type": "code",
      "source": [
        "#Palabra es un objeto, creado por la clase STRING\n",
        "\n",
        "palabra = 'El HOMBRE araña'"
      ],
      "metadata": {
        "id": "YA3J7ljvZKJe"
      },
      "execution_count": null,
      "outputs": []
    },
    {
      "cell_type": "code",
      "source": [
        "palabra.lower()"
      ],
      "metadata": {
        "id": "nGukA0bMJvjc",
        "colab": {
          "base_uri": "https://localhost:8080/",
          "height": 56
        },
        "outputId": "789191ff-ca56-48a0-9856-27475eceba97"
      },
      "execution_count": null,
      "outputs": [
        {
          "output_type": "execute_result",
          "data": {
            "text/plain": [
              "'el hombre araña'"
            ],
            "application/vnd.google.colaboratory.intrinsic+json": {
              "type": "string"
            }
          },
          "metadata": {},
          "execution_count": 49
        }
      ]
    },
    {
      "cell_type": "code",
      "source": [
        "palabra.title()"
      ],
      "metadata": {
        "id": "Z-MRFNkT-l0O",
        "colab": {
          "base_uri": "https://localhost:8080/",
          "height": 56
        },
        "outputId": "e4de0f68-cd91-473c-8b8a-afb0a7fe3e16"
      },
      "execution_count": null,
      "outputs": [
        {
          "output_type": "execute_result",
          "data": {
            "text/plain": [
              "'El Hombre Araña'"
            ],
            "application/vnd.google.colaboratory.intrinsic+json": {
              "type": "string"
            }
          },
          "metadata": {},
          "execution_count": 50
        }
      ]
    },
    {
      "cell_type": "code",
      "execution_count": null,
      "metadata": {
        "id": "Q9G1GHYdN3FJ",
        "colab": {
          "base_uri": "https://localhost:8080/",
          "height": 56
        },
        "outputId": "a6075a23-e8d9-4358-c0de-1d7ee5a2350d"
      },
      "outputs": [
        {
          "output_type": "execute_result",
          "data": {
            "text/plain": [
              "'EL HOMBRE ARAÑA'"
            ],
            "application/vnd.google.colaboratory.intrinsic+json": {
              "type": "string"
            }
          },
          "metadata": {},
          "execution_count": 51
        }
      ],
      "source": [
        "#poner en mayuscula\n",
        "palabra.upper()"
      ]
    },
    {
      "cell_type": "code",
      "execution_count": null,
      "metadata": {
        "id": "cIP_fW4kO_MF",
        "colab": {
          "base_uri": "https://localhost:8080/",
          "height": 56
        },
        "outputId": "e85ed888-b582-428d-ed67-7532e4dddd99"
      },
      "outputs": [
        {
          "output_type": "execute_result",
          "data": {
            "text/plain": [
              "'El hombre araña'"
            ],
            "application/vnd.google.colaboratory.intrinsic+json": {
              "type": "string"
            }
          },
          "metadata": {},
          "execution_count": 52
        }
      ],
      "source": [
        "palabra.capitalize()"
      ]
    },
    {
      "cell_type": "code",
      "execution_count": null,
      "metadata": {
        "id": "jOLk4gBUPFZ6",
        "colab": {
          "base_uri": "https://localhost:8080/",
          "height": 56
        },
        "outputId": "70300abe-eeee-4ec4-c629-8a9361d361a6"
      },
      "outputs": [
        {
          "output_type": "execute_result",
          "data": {
            "text/plain": [
              "'El Hombre Araña'"
            ],
            "application/vnd.google.colaboratory.intrinsic+json": {
              "type": "string"
            }
          },
          "metadata": {},
          "execution_count": 53
        }
      ],
      "source": [
        "palabra.title()"
      ]
    },
    {
      "cell_type": "code",
      "execution_count": null,
      "metadata": {
        "id": "3C_nYffNOOty",
        "colab": {
          "base_uri": "https://localhost:8080/",
          "height": 56
        },
        "outputId": "16d3647b-0ad0-4f52-ed37-9dd3f0349efb"
      },
      "outputs": [
        {
          "output_type": "execute_result",
          "data": {
            "text/plain": [
              "'el hombre araña'"
            ],
            "application/vnd.google.colaboratory.intrinsic+json": {
              "type": "string"
            }
          },
          "metadata": {},
          "execution_count": 54
        }
      ],
      "source": [
        "palabra.lower()"
      ]
    },
    {
      "cell_type": "code",
      "source": [
        "#Palabra es un objeto, creado por la clase INTEGER\n",
        "numero = 10"
      ],
      "metadata": {
        "id": "ZK36eFCj-2E3"
      },
      "execution_count": null,
      "outputs": []
    },
    {
      "cell_type": "code",
      "source": [
        "numero = '20'\n",
        "type(numero)"
      ],
      "metadata": {
        "id": "cQ_63Wz5_BSA",
        "colab": {
          "base_uri": "https://localhost:8080/"
        },
        "outputId": "915cee8e-b694-45a7-c66f-cf85a70abedb"
      },
      "execution_count": null,
      "outputs": [
        {
          "output_type": "execute_result",
          "data": {
            "text/plain": [
              "str"
            ]
          },
          "metadata": {},
          "execution_count": 59
        }
      ]
    },
    {
      "cell_type": "code",
      "source": [
        "numero_2 = int(numero)\n",
        "numero_2"
      ],
      "metadata": {
        "id": "HLiylX0Q__64",
        "colab": {
          "base_uri": "https://localhost:8080/"
        },
        "outputId": "6cf4761a-680a-42fb-827a-4f4a755577fc"
      },
      "execution_count": null,
      "outputs": [
        {
          "output_type": "execute_result",
          "data": {
            "text/plain": [
              "20"
            ]
          },
          "metadata": {},
          "execution_count": 60
        }
      ]
    },
    {
      "cell_type": "code",
      "source": [
        "type(numero_2)"
      ],
      "metadata": {
        "id": "gMKj2WYwLUjl",
        "colab": {
          "base_uri": "https://localhost:8080/"
        },
        "outputId": "8790764e-06bd-454c-c730-c0481b493d2f"
      },
      "execution_count": null,
      "outputs": [
        {
          "output_type": "execute_result",
          "data": {
            "text/plain": [
              "int"
            ]
          },
          "metadata": {},
          "execution_count": 61
        }
      ]
    },
    {
      "cell_type": "code",
      "source": [
        "numero = 20.5\n",
        "type(numero)"
      ],
      "metadata": {
        "id": "iG5xfcadAl8w",
        "colab": {
          "base_uri": "https://localhost:8080/"
        },
        "outputId": "b28ee175-d4be-496e-bec1-0a5005d95faa"
      },
      "execution_count": null,
      "outputs": [
        {
          "output_type": "execute_result",
          "data": {
            "text/plain": [
              "float"
            ]
          },
          "metadata": {},
          "execution_count": 62
        }
      ]
    },
    {
      "cell_type": "markdown",
      "metadata": {
        "id": "bsTrzabhpCHd"
      },
      "source": [
        "# 2. Condicionales (if)\n",
        "\n",
        "```\n",
        "if condición1:\n",
        "    bloque código\n",
        "elif condición2:\n",
        "    bloque código\n",
        " …\n",
        "else :\n",
        "    bloque código\n",
        "\n",
        " ```\n",
        "\n",
        "Evalúa la expresión lógica condición1 y ejecuta el primer bloque de código si es True; si no, evalúa la siguientes condiciones hasta llegar a la primera que es True y ejecuta el bloque de código asociado. Si ninguna condición es True ejecuta el bloque de código después de else:.\n",
        "\n",
        "## Pueden aparecer varios bloques elif pero solo uno else al final.\n",
        "\n",
        " Los bloques de código deben estar indentados por 4 espacios.\n",
        "\n",
        "La instrucción condicional permite evaluar el estado del programa y tomar decisiones sobre qué código ejecutar en función del mismo."
      ]
    },
    {
      "cell_type": "markdown",
      "metadata": {
        "id": "BKLrMrkwF_mV"
      },
      "source": [
        "* Equals: a == b\n",
        "* Not Equals: a != b\n",
        "* Less than: a < b\n",
        "* Less than or equal to a <= b\n",
        "* Greater than: a > b\n",
        "* Greater than or equal to: a >= b"
      ]
    },
    {
      "cell_type": "markdown",
      "metadata": {
        "id": "eWOFixxgF_mV"
      },
      "source": [
        "## 2.1.  Condición simple"
      ]
    },
    {
      "cell_type": "code",
      "source": [
        "edad = 10\n",
        "\n",
        "if edad >= 5:\n",
        "  print('Es mayor de 5 años')"
      ],
      "metadata": {
        "colab": {
          "base_uri": "https://localhost:8080/"
        },
        "id": "xQZyWxJH-gqZ",
        "outputId": "bd4677b8-34ce-489d-c6a2-21ecce6ced30"
      },
      "execution_count": null,
      "outputs": [
        {
          "output_type": "stream",
          "name": "stdout",
          "text": [
            "Es mayor de 5 años\n"
          ]
        }
      ]
    },
    {
      "cell_type": "code",
      "source": [
        "# Los dos puntos (:) es importante agregar para indicarle a python que termine de poner la condicion.\n",
        "# Los espacios posterior a los dos puntos (:) es obligatorio\n",
        "\n",
        "edad = 20\n",
        "\n",
        "if edad >= 18:\n",
        "  print('Es mayor de edad')\n",
        "else:\n",
        "  print('Es menor de edad')"
      ],
      "metadata": {
        "id": "flxb6m9HOZP9",
        "colab": {
          "base_uri": "https://localhost:8080/"
        },
        "outputId": "7fd9b4b1-0f72-44d5-effb-cd9bb3128143"
      },
      "execution_count": null,
      "outputs": [
        {
          "output_type": "stream",
          "name": "stdout",
          "text": [
            "Es mayor de edad\n"
          ]
        }
      ]
    },
    {
      "cell_type": "code",
      "source": [
        "edad = 30\n",
        "\n",
        "if edad >= 18:\n",
        "  print('Es mayor de edad') # aca finalizo el bloque de codigo\n",
        "\n",
        "print('Es menor de edad')"
      ],
      "metadata": {
        "id": "Fsv82pNkPOAR",
        "colab": {
          "base_uri": "https://localhost:8080/"
        },
        "outputId": "e30b4ffa-56b9-434d-8616-79a5ea31e012"
      },
      "execution_count": null,
      "outputs": [
        {
          "output_type": "stream",
          "name": "stdout",
          "text": [
            "Es mayor de edad\n",
            "Es menor de edad\n"
          ]
        }
      ]
    },
    {
      "cell_type": "code",
      "source": [],
      "metadata": {
        "id": "TwVWgTYNSvT4"
      },
      "execution_count": null,
      "outputs": []
    },
    {
      "cell_type": "code",
      "source": [
        "# If anidados\n",
        "edad = 70\n",
        "\n",
        "if edad >= 18:\n",
        "  print('Es mayor de edad')\n",
        "  if edad >= 65:\n",
        "    print('Es un adulto mayor')\n",
        "else:\n",
        "  print('Es menor de edad')"
      ],
      "metadata": {
        "id": "mLSwy0suQp-Q"
      },
      "execution_count": null,
      "outputs": []
    },
    {
      "cell_type": "code",
      "source": [
        "# agregando if dentro de los else anidados\n",
        "edad = 16\n",
        "\n",
        "if edad >= 18:\n",
        "  print('Es mayor de edad')\n",
        "  if edad >= 65:\n",
        "    print('Es un adulto mayor')\n",
        "else:\n",
        "  if edad >= 15:\n",
        "    print('Es un adolecente')\n",
        "  else:\n",
        "    print('es un niño')"
      ],
      "metadata": {
        "id": "w9WaUa_qSwU8"
      },
      "execution_count": null,
      "outputs": []
    },
    {
      "cell_type": "code",
      "source": [
        "# ELIf, nos permite agregando n cantidad de condicionales adicionales\n",
        "edad = 70\n",
        "\n",
        "if edad >= 18:\n",
        "  print('Es mayor de edad')\n",
        "  if edad >= 65:\n",
        "    print('Es un adulto mayor')\n",
        "elif edad >= 15:\n",
        "    print('Es un adolecente')\n",
        "else:\n",
        "  print('es un niño')"
      ],
      "metadata": {
        "id": "18g_s8P6TW7B"
      },
      "execution_count": null,
      "outputs": []
    },
    {
      "cell_type": "code",
      "source": [
        "# ELIf, nos permite agregando n cantidad de condicionales adicionales\n",
        "edad = 14\n",
        "\n",
        "if edad >= 15:\n",
        "    print('Es un adolecente')\n",
        "elif edad >= 18:\n",
        "  print('Es mayor de edad')\n",
        "  if edad >= 65:\n",
        "    print('Es un adulto mayor')\n",
        "elif:\n",
        "  .\n",
        "  .\n",
        "  .\n",
        "  .\n",
        "  .\n",
        "elif:\n",
        "  .\n",
        "  .\n",
        "  .\n",
        "  .\n",
        "  .\n",
        "\n",
        "else:\n",
        "  print('es un niño')"
      ],
      "metadata": {
        "id": "A4uJapUUT-Vc"
      },
      "execution_count": null,
      "outputs": []
    },
    {
      "cell_type": "code",
      "source": [
        "# Concionales con operadores logicos (and / or)\n",
        "# Opcion 1\n",
        "\n",
        "edad = 17\n",
        "\n",
        "if (edad >= 18 and edad <= 40) or (edad >= 45 and edad <= 65):\n",
        "  print('Es un adulto')\n",
        "elif edad > 65:\n",
        "  print('es un adulto mayor')\n",
        "else:\n",
        "  print('Es un adolecente')"
      ],
      "metadata": {
        "id": "NhJtweKhVIp4"
      },
      "execution_count": null,
      "outputs": []
    },
    {
      "cell_type": "code",
      "source": [
        "# Concionales con operadores logicos\n",
        "# Opcion 2 (intervalos)\n",
        "\n",
        "edad = 61\n",
        "\n",
        "if (18 <= edad <= 60) or edad == 61:\n",
        "  print('Es un adulto')\n",
        "elif edad > 65:\n",
        "  print('es un adulto mayor')\n",
        "else:\n",
        "  print('Es un adolecente')"
      ],
      "metadata": {
        "id": "2V9H9b5CVjW0"
      },
      "execution_count": null,
      "outputs": []
    },
    {
      "cell_type": "code",
      "execution_count": null,
      "metadata": {
        "id": "xFMyExeDr03A"
      },
      "outputs": [],
      "source": [
        "if 5 > 6:\n",
        "  print('That’s True!')\n",
        "print('Línea 2')"
      ]
    },
    {
      "cell_type": "code",
      "source": [
        "if 5 > 6:\n",
        "  print('That’s True!')\n",
        "  if 1>0:\n",
        "    print('Linea extra')\n",
        "print('Línea 2')"
      ],
      "metadata": {
        "id": "mPhZdjqufdSw"
      },
      "execution_count": null,
      "outputs": []
    },
    {
      "cell_type": "code",
      "execution_count": null,
      "metadata": {
        "id": "b1wTlnyOF_mW"
      },
      "outputs": [],
      "source": [
        "edad = 13\n",
        "if edad >= 18:\n",
        "  print('Es mayor de edad')"
      ]
    },
    {
      "cell_type": "markdown",
      "metadata": {
        "id": "TDstJ2-HF_mW"
      },
      "source": [
        "## 2.2 Condición anidada"
      ]
    },
    {
      "cell_type": "code",
      "execution_count": null,
      "metadata": {
        "id": "v6BQSbuceCCS"
      },
      "outputs": [],
      "source": [
        "x = 25\n",
        "if x > 20:\n",
        "  print('Above twenty,')\n",
        "  if x > 30:\n",
        "    print('and also above 30!')"
      ]
    },
    {
      "cell_type": "code",
      "source": [
        "edad = 30\n",
        "if edad >= 18:\n",
        "  print('Es mayor de edad')\n",
        "print('Es menor de edad')"
      ],
      "metadata": {
        "id": "N2eHWcaBQXSl"
      },
      "execution_count": null,
      "outputs": []
    },
    {
      "cell_type": "code",
      "execution_count": null,
      "metadata": {
        "id": "s-4W68GLF_mX"
      },
      "outputs": [],
      "source": [
        "edad = 10\n",
        "if edad >= 18:\n",
        "  print('Es mayor de edad')\n",
        "else:\n",
        "  if edad < 11:\n",
        "    print('Es un niño')\n",
        "  print('Es menor de edad')"
      ]
    },
    {
      "cell_type": "code",
      "source": [
        "edad = 17\n",
        "if edad >= 18:\n",
        "  print('Es mayor de edad')\n",
        "elif edad < 2:\n",
        "  print('Es un bebé')\n",
        "elif edad < 11:\n",
        "  print('Es un niño')\n",
        "else:\n",
        "  print('error')"
      ],
      "metadata": {
        "id": "VSEkMQ3kRq0I"
      },
      "execution_count": null,
      "outputs": []
    },
    {
      "cell_type": "markdown",
      "metadata": {
        "id": "DLJHzEHcF_mX"
      },
      "source": [
        "## 2.3 ELIF - Condición"
      ]
    },
    {
      "cell_type": "code",
      "execution_count": null,
      "metadata": {
        "id": "d-YBlmiYF_mY"
      },
      "outputs": [],
      "source": [
        "a = 45\n",
        "b = 45\n",
        "if b > a:\n",
        "  print('b is greater than a')\n",
        "elif a == b:\n",
        "  print('a and b are equal')"
      ]
    },
    {
      "cell_type": "code",
      "execution_count": null,
      "metadata": {
        "id": "890Cm0IZF_mY"
      },
      "outputs": [],
      "source": []
    },
    {
      "cell_type": "markdown",
      "metadata": {
        "id": "HzPF2MVosKn4"
      },
      "source": [
        "# 3. Bucles\n",
        "## Bucles condicionales (while)\n",
        "* while condición:\n",
        "*    bloque código\n",
        "\n",
        "Repite la ejecución del bloque de código mientras la expresión lógica condición sea cierta.\n",
        "\n",
        "Se puede interrumpir en cualquier momento la ejecución del bloque de código con la instrucción **break**.\n",
        "\n",
        " El bloque de código debe estar **indentado por 2 espacios o un tab.**"
      ]
    },
    {
      "cell_type": "code",
      "source": [
        "nombre1 = input('Ingrese nombre del alumno')\n",
        "nombre2 = input('Ingrese nombre del alumno')\n",
        "nombre3 = input('Ingrese nombre del alumno')\n",
        "...\n",
        "nombre100 = input('Ingrese nombre del alumno')"
      ],
      "metadata": {
        "id": "YPHqU2MAg4Qk"
      },
      "execution_count": null,
      "outputs": []
    },
    {
      "cell_type": "code",
      "source": [
        "while True:\n",
        "  nombre = input('Ingrese nombre del alumno')"
      ],
      "metadata": {
        "id": "tTn09-D-hayW"
      },
      "execution_count": null,
      "outputs": []
    },
    {
      "cell_type": "code",
      "source": [
        "# Requiero registrar 5 alumnos - nombres\n",
        "contador = 1 #Contador\n",
        "\n",
        "while contador <= 5 :\n",
        "  nombre = input('Ingrese nombre del alumno: ')\n",
        "  contador = contador + 1"
      ],
      "metadata": {
        "id": "rxNuuG5ciXU8",
        "colab": {
          "base_uri": "https://localhost:8080/"
        },
        "outputId": "5aac7a71-f1e3-466e-ac75-7d60aae2aaee"
      },
      "execution_count": 1,
      "outputs": [
        {
          "name": "stdout",
          "output_type": "stream",
          "text": [
            "Ingrese nombre del alumno: Paul\n",
            "Ingrese nombre del alumno: Jose\n",
            "Ingrese nombre del alumno: Ramon\n",
            "Ingrese nombre del alumno: Pedro\n",
            "Ingrese nombre del alumno: Mike\n"
          ]
        }
      ]
    },
    {
      "cell_type": "code",
      "source": [
        "# Requiero registrar 5 alumnos - nombres\n",
        "contador = 1 #Contador\n",
        "\n",
        "while contador <= 5 :\n",
        "  print('El valor del contador es:',contador)\n",
        "  nombre = input('Ingrese nombre del alumno: ')\n",
        "  contador = contador + 1"
      ],
      "metadata": {
        "id": "MMu1MxM_ZB6C"
      },
      "execution_count": null,
      "outputs": []
    },
    {
      "cell_type": "code",
      "source": [
        "cantAlum = 3 # Requiero registrar 5 alumnos - nombres\n",
        "contador = 1 #Contador\n",
        "\n",
        "while contador <= cantAlum :\n",
        "  print('El valor del contador es:',contador)\n",
        "  nombre = input('Ingrese nombre del alumno: ')\n",
        "  contador += 1 # contador = contador + 1"
      ],
      "metadata": {
        "id": "A1ZnLWD0ZXYP",
        "outputId": "413e901c-e38d-4399-ede9-a7487cd5f20e",
        "colab": {
          "base_uri": "https://localhost:8080/"
        }
      },
      "execution_count": null,
      "outputs": [
        {
          "name": "stdout",
          "output_type": "stream",
          "text": [
            "El valor del contador es: 1\n",
            "Ingrese nombre del alumno: 3\n",
            "El valor del contador es: 2\n",
            "Ingrese nombre del alumno: Walter\n",
            "El valor del contador es: 3\n",
            "Ingrese nombre del alumno: David\n"
          ]
        }
      ]
    },
    {
      "cell_type": "code",
      "source": [
        "cantAlum = 3  # Requiero registrar notas 3 alumnos - nombres\n",
        "contador = 1 # Contador\n",
        "totalNotas = 0 # Acumulador\n",
        "\n",
        "while contador <= cantAlum:\n",
        "  nota = int(input('Ingrese nota del alumno: '))\n",
        "  totalNotas = totalNotas + nota #Acumulador\n",
        "  print('Valor de Total Notas',totalNotas )\n",
        "  contador += 1 # contador = contador + 1\n",
        "\n",
        "promedio = totalNotas / cantAlum\n",
        "print('El promedio es',round(promedio,0))"
      ],
      "metadata": {
        "id": "m1C1IHQCj5CY"
      },
      "execution_count": null,
      "outputs": []
    },
    {
      "cell_type": "code",
      "source": [
        "cantAlum = 5  # Requiero registrar notas 3 alumnos - nombres\n",
        "contador = 1 # Contador\n",
        "totalNotas = 0 # acumulador\n",
        "\n",
        "while contador <= cantAlum:\n",
        "  nota = int(input('Ingrese nota del alumno: '))\n",
        "  totalNotas = totalNotas + nota #Acumulador\n",
        "  print('Valor de Total Notas',totalNotas )\n",
        "  contador += 1 # contador = contador + 1\n",
        "\n",
        "  promedio = totalNotas / (contador-1)\n",
        "  print('El promedio es',round(promedio,0))"
      ],
      "metadata": {
        "id": "fWMvkDxGmhe8"
      },
      "execution_count": null,
      "outputs": []
    },
    {
      "cell_type": "markdown",
      "source": [
        "**10 minutos**\n",
        "\n",
        "**Ejercicio**, crea un programa que permita registrar los sueldos de los colaboradores de una empresa\n",
        "\n",
        "1.   Solicitar al usuario cuanto s colaboradores son parte de la empresa.\n",
        "2.   Registrar los sueldos.\n",
        "3.   Mostrar el promedio de sueldos.\n",
        "\n"
      ],
      "metadata": {
        "id": "s5X_P8_AbkQG"
      }
    },
    {
      "cell_type": "code",
      "source": [],
      "metadata": {
        "id": "m6M0yhLTbg61"
      },
      "execution_count": null,
      "outputs": []
    },
    {
      "cell_type": "code",
      "source": [],
      "metadata": {
        "id": "WQQNPrXldRR6"
      },
      "execution_count": null,
      "outputs": []
    },
    {
      "cell_type": "code",
      "source": [],
      "metadata": {
        "id": "D1LDhh8XsTnF"
      },
      "execution_count": null,
      "outputs": []
    },
    {
      "cell_type": "code",
      "source": [],
      "metadata": {
        "id": "Qe4WWn69tnIC"
      },
      "execution_count": null,
      "outputs": []
    },
    {
      "cell_type": "code",
      "execution_count": null,
      "metadata": {
        "id": "z94DTxeyktY6"
      },
      "outputs": [],
      "source": [
        "while 1==1:\n",
        "  print('Hola esto es una prueba')\n",
        "  print('---')"
      ]
    },
    {
      "cell_type": "code",
      "execution_count": null,
      "metadata": {
        "id": "Ir5-bIlRslUG"
      },
      "outputs": [],
      "source": [
        "# Pregunta al usuario por un número hasta que introduce 0.\n",
        "# != : Signfica diferente\n",
        "num = None\n",
        "\n",
        "while num != 0:\n",
        "  num = int(input('Introduce un número: '))\n",
        "  print('Ha ingresado',num)"
      ]
    },
    {
      "cell_type": "markdown",
      "metadata": {
        "id": "-iMkI2aksvVC"
      },
      "source": [
        "Alternativa"
      ]
    },
    {
      "cell_type": "code",
      "execution_count": null,
      "metadata": {
        "id": "uxG-_9NAswY5"
      },
      "outputs": [],
      "source": [
        "#num = None\n",
        "while True:\n",
        "  num = int(input('Introduce un número: '))\n",
        "  if num == 0:\n",
        "    break"
      ]
    },
    {
      "cell_type": "code",
      "execution_count": null,
      "metadata": {
        "id": "M3vwd6AYpCI4"
      },
      "outputs": [],
      "source": [
        "while False:\n",
        "  print('hola')"
      ]
    },
    {
      "cell_type": "code",
      "execution_count": null,
      "metadata": {
        "id": "Derpeif8pSLO"
      },
      "outputs": [],
      "source": [
        "i = 0 #contador\n",
        "\n",
        "while i<= 8:\n",
        "  print('orden',i)\n",
        "  i += 1 #i = i + 1"
      ]
    },
    {
      "cell_type": "code",
      "execution_count": null,
      "metadata": {
        "id": "UV2HKxrRrKsw"
      },
      "outputs": [],
      "source": []
    },
    {
      "cell_type": "markdown",
      "metadata": {
        "id": "HW8qs5Fys-5A"
      },
      "source": [
        "# 4. Bucles iterativos (for)\n",
        "* for i in secuencia:\n",
        "*    bloque código\n",
        "\n",
        "**Repite la ejecución** del bloque de código para cada elemento de la secuencia secuencia, asignado dicho elemento a i en cada repetición.\n",
        "\n",
        "Se puede interrumpir en cualquier momento la ejecución del bloque de código con la instrucción break o saltar la ejecución para un determinado elemento de la secuencia con la instrucción continue.\n",
        "\n",
        "## El bloque de código debe estar indentado por 2 espacios o tab.\n",
        "\n",
        "Se utiliza fundamentalmente para recorrer colecciones de objetos como cadenas, listas, tuplas o diccionarios.\n",
        "\n",
        "A menudo se usan con la instrucción range:\n",
        "\n",
        "* range(fin) : Genera una secuencia de números enteros desde 0 hasta fin-1.\n",
        "* range(inicio, fin, salto) : Genera una secuencia de números enteros desde inicio hasta fin-1 con un incremento de salto."
      ]
    },
    {
      "cell_type": "code",
      "source": [
        "range(5)\n",
        "# 0,1,2,3,4"
      ],
      "metadata": {
        "id": "o4si-pUd4BbK"
      },
      "execution_count": null,
      "outputs": []
    },
    {
      "cell_type": "code",
      "source": [
        "range(2,7)\n",
        "# 2,3,4,5,6"
      ],
      "metadata": {
        "id": "Pc-eAJL-4RCB"
      },
      "execution_count": null,
      "outputs": []
    },
    {
      "cell_type": "code",
      "source": [
        "#range(4): 0, 1, 2, 3\n",
        "\n",
        "for iterante in range(4):\n",
        "  print(iterante+1)\n"
      ],
      "metadata": {
        "id": "SlAUiMZZ4hd3"
      },
      "execution_count": null,
      "outputs": []
    },
    {
      "cell_type": "code",
      "source": [
        "for iterante in 'Python':\n",
        "  print(iterante)"
      ],
      "metadata": {
        "id": "oxt2IuyunyB2"
      },
      "execution_count": null,
      "outputs": []
    },
    {
      "cell_type": "code",
      "source": [
        "# range(4,5,6,7,8,9,10,11)\n",
        "\n",
        "for iterante in range(4,12):\n",
        "  print(iterante)"
      ],
      "metadata": {
        "id": "3XxWx5rT6NAp",
        "colab": {
          "base_uri": "https://localhost:8080/"
        },
        "outputId": "51b822d0-2261-4bab-a6a6-a1bd2918af09"
      },
      "execution_count": 2,
      "outputs": [
        {
          "output_type": "stream",
          "name": "stdout",
          "text": [
            "4\n",
            "5\n",
            "6\n",
            "7\n",
            "8\n",
            "9\n",
            "10\n",
            "11\n"
          ]
        }
      ]
    },
    {
      "cell_type": "code",
      "source": [
        "#Listas usando for\n",
        "for iterante in [30,40,'Dany',True,70,10]:\n",
        "  print(iterante)"
      ],
      "metadata": {
        "id": "FYLjFd_JocNq",
        "colab": {
          "base_uri": "https://localhost:8080/"
        },
        "outputId": "9d72de50-5167-48c2-972d-bd68c78f520e"
      },
      "execution_count": 3,
      "outputs": [
        {
          "output_type": "stream",
          "name": "stdout",
          "text": [
            "30\n",
            "40\n",
            "Dany\n",
            "True\n",
            "70\n",
            "10\n"
          ]
        }
      ]
    },
    {
      "cell_type": "code",
      "source": [
        "#Crear un programa que me permita registrar la nota de 5 alumnos\n",
        "cantAlum = int(input('Ingrese la cantidad de alumnos: '))\n",
        "acumNota = 0\n",
        "\n",
        "for iterante in range(3): #range(0,1,2)\n",
        "  nota = int(input(f'Ingrese la nota del alumno {iterante+1}: '))\n",
        "  acumNota = acumNota + nota\n",
        "\n",
        "promNota = acumNota / cantAlum\n",
        "print('El promedio de notas es: ',promNota)"
      ],
      "metadata": {
        "id": "CKRzeRxAoxA_"
      },
      "execution_count": null,
      "outputs": []
    },
    {
      "cell_type": "code",
      "source": [
        "for i in range(10,1,-2):\n",
        "  print(i)"
      ],
      "metadata": {
        "id": "KOCpsl-T6Y6A",
        "colab": {
          "base_uri": "https://localhost:8080/"
        },
        "outputId": "6c815c7d-70c6-4f83-f440-d73f575a3c7b"
      },
      "execution_count": 6,
      "outputs": [
        {
          "output_type": "stream",
          "name": "stdout",
          "text": [
            "10\n",
            "8\n",
            "6\n",
            "4\n",
            "2\n"
          ]
        }
      ]
    },
    {
      "cell_type": "code",
      "execution_count": 4,
      "metadata": {
        "id": "pQNb0EUTtUI6",
        "colab": {
          "base_uri": "https://localhost:8080/"
        },
        "outputId": "fc878e8a-5850-4435-8ef8-4dbc43c04810"
      },
      "outputs": [
        {
          "output_type": "stream",
          "name": "stdout",
          "text": [
            "d\n",
            "a\n",
            "n\n",
            "y\n"
          ]
        }
      ],
      "source": [
        "palabra = 'dany'\n",
        "\n",
        "for iterante in palabra:\n",
        "  print(iterante)"
      ]
    },
    {
      "cell_type": "code",
      "source": [
        "letra"
      ],
      "metadata": {
        "id": "HtDU0-Uh7dGf",
        "colab": {
          "base_uri": "https://localhost:8080/",
          "height": 138
        },
        "outputId": "fc888f0d-8e13-497d-d2e2-65d78f2de316"
      },
      "execution_count": 7,
      "outputs": [
        {
          "output_type": "error",
          "ename": "NameError",
          "evalue": "name 'letra' is not defined",
          "traceback": [
            "\u001b[0;31m---------------------------------------------------------------------------\u001b[0m",
            "\u001b[0;31mNameError\u001b[0m                                 Traceback (most recent call last)",
            "\u001b[0;32m<ipython-input-7-77bb386adf6f>\u001b[0m in \u001b[0;36m<cell line: 1>\u001b[0;34m()\u001b[0m\n\u001b[0;32m----> 1\u001b[0;31m \u001b[0mletra\u001b[0m\u001b[0;34m\u001b[0m\u001b[0;34m\u001b[0m\u001b[0m\n\u001b[0m",
            "\u001b[0;31mNameError\u001b[0m: name 'letra' is not defined"
          ]
        }
      ]
    },
    {
      "cell_type": "code",
      "source": [
        "nrNota= 5\n",
        "totalNotas = 0 #acumuladora\n",
        "#range(5): 0,1,2,3,4\n",
        "for i in range(5):\n",
        "  nota = int(input('Ingrese nota: '))\n",
        "  totalNotas = totalNotas + nota"
      ],
      "metadata": {
        "id": "cHyHD7iE7jkk"
      },
      "execution_count": null,
      "outputs": []
    },
    {
      "cell_type": "code",
      "source": [
        "print(i)"
      ],
      "metadata": {
        "id": "RczPdPoA8RIR"
      },
      "execution_count": null,
      "outputs": []
    },
    {
      "cell_type": "code",
      "execution_count": null,
      "metadata": {
        "id": "ZpsQpr-3ta6f"
      },
      "outputs": [],
      "source": [
        "# 1,3,5,7,9\n",
        "for i in range(1, 10, 2):\n",
        "  print(i)"
      ]
    },
    {
      "cell_type": "code",
      "source": [
        "# Uso de la funcion find\n",
        "# find, me devuelve la posicion del indice que tiene la palabra buscada y devuelve el primer valor que encuentre.\n",
        "palabra = 'Python'\n",
        "\n",
        "palabra.find('o')\n",
        "\n",
        "palabra[palabra.find('o')]"
      ],
      "metadata": {
        "id": "evCFVwtR-XVG",
        "colab": {
          "base_uri": "https://localhost:8080/",
          "height": 36
        },
        "outputId": "9fa3fab6-4d8d-4cc8-d1b2-f19bc0dbb1e6"
      },
      "execution_count": 10,
      "outputs": [
        {
          "output_type": "execute_result",
          "data": {
            "text/plain": [
              "'o'"
            ],
            "application/vnd.google.colaboratory.intrinsic+json": {
              "type": "string"
            }
          },
          "metadata": {},
          "execution_count": 10
        }
      ]
    },
    {
      "cell_type": "code",
      "source": [
        "ABC = 'ABCDEFGHIJKLMNOPQRSTUVWXYZ'\n",
        "\n",
        "ABC.find('Y')+1"
      ],
      "metadata": {
        "id": "SfMWu9hD-399",
        "colab": {
          "base_uri": "https://localhost:8080/"
        },
        "outputId": "272fb392-0c31-47fe-ead3-37a60e063747"
      },
      "execution_count": 11,
      "outputs": [
        {
          "output_type": "execute_result",
          "data": {
            "text/plain": [
              "25"
            ]
          },
          "metadata": {},
          "execution_count": 11
        }
      ]
    },
    {
      "cell_type": "markdown",
      "source": [
        "#Ejercicio de 15 minutos\n",
        "\n",
        "Se requiere crear un programa que te autogenere el codigo para los nuevos empleados, donde el codigo va a ser la concatenacion de las posiciones que tienen cada letra de su nombre en el abecedario.\n",
        "\n",
        "Input: 'Dany'\n",
        "\n",
        "Output: 04011426\n",
        "\n",
        "ABC = 'ABCDEFGHIJKLMNÑOPQRSTUVWXYZ'"
      ],
      "metadata": {
        "id": "TM4eUU29_NwF"
      }
    },
    {
      "cell_type": "code",
      "source": [
        "source = 'ABCDEFGHIJKLMNÑOPQRSTUVWXYZ'\n",
        "username = input('Please input the username:').upper()\n",
        "genpass = ''\n",
        "for letter in username:\n",
        "  print('Username Letter: ',letter)\n",
        "  print('Username Letter Value',source.find(letter))\n",
        "  genpass = genpass + str(source.find(letter)+1)\n",
        "\n",
        "print('Generated Pass is:',genpass)"
      ],
      "metadata": {
        "id": "LKIcDfBE_MPs",
        "colab": {
          "base_uri": "https://localhost:8080/"
        },
        "outputId": "2df0c983-1491-4688-f482-6473d2e1dcad"
      },
      "execution_count": 18,
      "outputs": [
        {
          "output_type": "stream",
          "name": "stdout",
          "text": [
            "Please input the username:palvarado\n",
            "Username Letter:  P\n",
            "Username Letter Value 16\n",
            "Username Letter:  A\n",
            "Username Letter Value 0\n",
            "Username Letter:  L\n",
            "Username Letter Value 11\n",
            "Username Letter:  V\n",
            "Username Letter Value 22\n",
            "Username Letter:  A\n",
            "Username Letter Value 0\n",
            "Username Letter:  R\n",
            "Username Letter Value 18\n",
            "Username Letter:  A\n",
            "Username Letter Value 0\n",
            "Username Letter:  D\n",
            "Username Letter Value 3\n",
            "Username Letter:  O\n",
            "Username Letter Value 15\n",
            "Generated Pass is: 17112231191416\n"
          ]
        }
      ]
    },
    {
      "cell_type": "code",
      "source": [],
      "metadata": {
        "id": "nLJEm_1yFPvv"
      },
      "execution_count": null,
      "outputs": []
    },
    {
      "cell_type": "code",
      "source": [],
      "metadata": {
        "id": "83fJhLDjA39u"
      },
      "execution_count": null,
      "outputs": []
    },
    {
      "cell_type": "markdown",
      "metadata": {
        "id": "0A3gNJhKwx7G"
      },
      "source": [
        "## Ejercicio 1 - CADENAS\n",
        "* Dado una cadena de con el siguiente formato de hora: hhmmss (18:24:50)\n",
        "* Convertir a formato DATETIME\n",
        "* mostrar el siguiente mensaje : “Son las 18h:24min:50seg”"
      ]
    },
    {
      "cell_type": "code",
      "execution_count": null,
      "metadata": {
        "id": "Cf8Ww1qMw_UD",
        "colab": {
          "base_uri": "https://localhost:8080/"
        },
        "outputId": "ef3da0a9-64ef-4dbf-b6d4-70ad907df7b2"
      },
      "outputs": [
        {
          "output_type": "stream",
          "name": "stdout",
          "text": [
            "¿Cuál es la hora que quiere convertir? [hh:mm:ss]18:24:50\n",
            "Son las 18:h:24:min:50seg\n"
          ]
        }
      ],
      "source": [
        "#Conversor de datetime con string\n",
        "hora_ingresada = input('¿Cuál es la hora que quiere convertir? [hh:mm:ss]');\n",
        "hh = hora_ingresada[:3]\n",
        "mm = hora_ingresada[3:6]\n",
        "ss = hora_ingresada[6:]\n",
        "hora_expresada = hh+'h:'+mm+'min:'+ss+'seg'\n",
        "print('Son las',hora_expresada)"
      ]
    },
    {
      "cell_type": "code",
      "execution_count": null,
      "metadata": {
        "id": "ZCMV_usMw_e2"
      },
      "outputs": [],
      "source": []
    },
    {
      "cell_type": "markdown",
      "metadata": {
        "id": "ibQKQ26dw_3c"
      },
      "source": [
        "## Ejercicio 2 - CADENAS\n",
        "\n",
        "Escribir un programa que pregunte su edad y nombre completo del usuario en la consola e imprima su edad y formato donde la primera letra es mayúscula y los demás minúscula.\n",
        "> Ejemplo:\n",
        "* nombre ingresado: 20 jimmy farfan\n",
        "* outPut: Su edad: 20 años\n",
        "* outPut: Su nombre Jimmy Farfan"
      ]
    },
    {
      "cell_type": "code",
      "execution_count": null,
      "metadata": {
        "id": "B_Ho7bntxKKx",
        "colab": {
          "base_uri": "https://localhost:8080/"
        },
        "outputId": "6ba8ce16-3e15-4c91-ea40-1c21b1b83a0f"
      },
      "outputs": [
        {
          "output_type": "stream",
          "name": "stdout",
          "text": [
            "Ingrese su edad y nombre completo separado por espacios: 20 jimmy farfan\n",
            "Su edad: 20 años\n",
            "Su nombre:  jimmy farfan\n"
          ]
        }
      ],
      "source": [
        "# Edad nombre splitter\n",
        "info = input('Ingrese su edad y nombre completo separado por espacios: ')\n",
        "info_split = info.split()\n",
        "print('Su edad:',info_split[0],'años')\n",
        "print('Su nombre:',info_split[1],info_split[2])"
      ]
    },
    {
      "cell_type": "code",
      "execution_count": null,
      "metadata": {
        "id": "92Ojcd8GxKUd"
      },
      "outputs": [],
      "source": []
    },
    {
      "cell_type": "markdown",
      "source": [
        "## Ejercicio 2.2\n",
        "**input:** Nombre ingresado: 20 jimmy FARFAn\n",
        "\n",
        "**output:** El nombre del participante es Jimmy Farfan y su edad es 20 años\n",
        "\n",
        "Ejemplo: La edad debe de contener 2 digitos, por ejemplo un 9 deberia de ser 09."
      ],
      "metadata": {
        "id": "IBnn1fz-zAhy"
      }
    },
    {
      "cell_type": "markdown",
      "source": [
        "Desarrollar"
      ],
      "metadata": {
        "id": "XrS8kQTgzDpI"
      }
    },
    {
      "cell_type": "code",
      "source": [
        "# Edad nombre splitter\n",
        "info = input('Ingrese su edad y nombre completo separado por espacios: ')\n",
        "info_split = info.split()\n",
        "print('El nombre del participante es',info_split[1].title(),info_split[2].title(),'y su edad es',info_split[0])"
      ],
      "metadata": {
        "colab": {
          "base_uri": "https://localhost:8080/"
        },
        "id": "vK1mnM7czFze",
        "outputId": "04750930-7bb1-451c-d63d-3a5a1a2e025c"
      },
      "execution_count": null,
      "outputs": [
        {
          "output_type": "stream",
          "name": "stdout",
          "text": [
            "Ingrese su edad y nombre completo separado por espacios: 20 jimmy FARFAn\n",
            "El nombre del participante es Jimmy Farfan y su edad es 20\n"
          ]
        }
      ]
    },
    {
      "cell_type": "markdown",
      "metadata": {
        "id": "emqcZ-vCxOnp"
      },
      "source": [
        "## Ejercicio 3 - CONDICIONALES\n",
        "\n",
        "En una oficina de empleos categorizan a los postulantes en función del sexo y de la edad de acuerdo con lo siguiente:\n",
        "* Si la persona es de sexo femenino: categoría FA si tiene menos de 23 años y FB, en caso contrario.\n",
        "* Si la persona es de sexo masculino: categoría MA si tiene menos de 25 años y MB, en caso contrario. Dado el sexo y la edad de un postulante, diseñe un programa que determine su categoría."
      ]
    },
    {
      "cell_type": "code",
      "execution_count": null,
      "metadata": {
        "id": "k9J04so9xpSr"
      },
      "outputs": [],
      "source": []
    },
    {
      "cell_type": "code",
      "execution_count": null,
      "metadata": {
        "id": "2gNSJ0OUxpbX"
      },
      "outputs": [],
      "source": []
    },
    {
      "cell_type": "markdown",
      "metadata": {
        "id": "qwmd0JvrxwO4"
      },
      "source": [
        "## Ejercicio 4 - CONDICIONALES\n",
        "\n",
        "Una tienda vende un producto a precios unitarios que dependen de la cantidad de unidades adquiridas de acuerdo a la tabla adjunta:\n",
        "\n",
        "  * de 1 a 25: Precio 27.7\n",
        "  * de 26 a 50: Precio 25.5\n",
        "  * de 51 a 75: Precio 23.7\n",
        "  * de 76 a mas: Precio 21.7\n",
        "\n",
        "* Adicionalmente, si el cliente adquiere más de 50 unidades la tienda le descuenta el 15% del importe de la compra; en caso contrario, sólo le descuenta el 5% del importe compra.\n",
        "* Diseñe un programa que determine el importe de la compra, el importe del descuento y el importe a pagar por la compra de cierta cantidad de unidades del producto."
      ]
    },
    {
      "cell_type": "code",
      "execution_count": null,
      "metadata": {
        "id": "14RPEfL3x0Zu"
      },
      "outputs": [],
      "source": []
    },
    {
      "cell_type": "code",
      "execution_count": null,
      "metadata": {
        "id": "Ooo1NvVix0k4"
      },
      "outputs": [],
      "source": []
    },
    {
      "cell_type": "code",
      "source": [],
      "metadata": {
        "id": "RIWZiTzlQs83"
      },
      "execution_count": null,
      "outputs": []
    },
    {
      "cell_type": "code",
      "source": [],
      "metadata": {
        "id": "yyv03te3TJIy"
      },
      "execution_count": null,
      "outputs": []
    },
    {
      "cell_type": "markdown",
      "metadata": {
        "id": "hcJrlMsfx9DY"
      },
      "source": [
        "## Ejercicio 5 - Bucles\n",
        "\n",
        "Calcular el sueldo promedio:\n",
        "\n",
        "1. Ingresa la cantidad de sueldo a promediar\n",
        "2. Ingresar los sueldos\n",
        "3. Calcular el promedio de los sueldo."
      ]
    },
    {
      "cell_type": "code",
      "execution_count": null,
      "metadata": {
        "id": "zrGkNmC84q8b"
      },
      "outputs": [],
      "source": []
    },
    {
      "cell_type": "code",
      "execution_count": null,
      "metadata": {
        "id": "wlI7wp70yF6S"
      },
      "outputs": [],
      "source": []
    },
    {
      "cell_type": "code",
      "source": [],
      "metadata": {
        "id": "dvRe4Vmv-7Il"
      },
      "execution_count": null,
      "outputs": []
    },
    {
      "cell_type": "code",
      "source": [],
      "metadata": {
        "id": "DtOUuYtxAYTr"
      },
      "execution_count": null,
      "outputs": []
    },
    {
      "cell_type": "markdown",
      "metadata": {
        "id": "7WRZUNuYyGQT"
      },
      "source": [
        "## Ejercicio 6 - CADENAS\n",
        "\n",
        "Escribir un programa que pregunte el nombre completo del usuario en la consola y después muestre por pantalla el nombre completo del usuario tres veces, una con todas las letras minúsculas, otra con todas las letras mayúsculas y otra solo con la primera letra del nombre y de los apellidos en mayúscula. El usuario puede introducir su nombre combinando mayúsculas y minúsculas como quiera."
      ]
    },
    {
      "cell_type": "code",
      "execution_count": null,
      "metadata": {
        "id": "H5Bgaph971lu"
      },
      "outputs": [],
      "source": []
    },
    {
      "cell_type": "code",
      "execution_count": null,
      "metadata": {
        "id": "wvp3tYHE71uX"
      },
      "outputs": [],
      "source": []
    },
    {
      "cell_type": "markdown",
      "metadata": {
        "id": "T6ZdWpBE72Fu"
      },
      "source": [
        "## Ejercicio 7 - CONDICIONALES\n",
        "\n",
        "Escribir un programa que pida al usuario dos números y muestre por pantalla su división. Si el divisor es cero el programa debe mostrar un error."
      ]
    },
    {
      "cell_type": "code",
      "execution_count": null,
      "metadata": {
        "id": "9IR6f4ft8Equ"
      },
      "outputs": [],
      "source": []
    },
    {
      "cell_type": "code",
      "execution_count": null,
      "metadata": {
        "id": "D_WByaVc8ExX"
      },
      "outputs": [],
      "source": []
    },
    {
      "cell_type": "markdown",
      "metadata": {
        "id": "EodS-se88E9o"
      },
      "source": [
        "## Ejercicio 8 - CONDICIONALES\n",
        "\n",
        "Escribir un programa que pida al usuario un número entero y muestre por pantalla si es par o impar."
      ]
    },
    {
      "cell_type": "code",
      "execution_count": null,
      "metadata": {
        "id": "XBGWlPOM8JSm"
      },
      "outputs": [],
      "source": []
    },
    {
      "cell_type": "code",
      "execution_count": null,
      "metadata": {
        "id": "1K5pvFWk8JYU"
      },
      "outputs": [],
      "source": []
    },
    {
      "cell_type": "markdown",
      "metadata": {
        "id": "F0WvIW9q8Jht"
      },
      "source": [
        "# Ejercicio 9 - CONDICIONALES\n",
        "\n",
        "Para tributar un determinado impuesto se debe ser mayor de 16 años y tener unos ingresos iguales o superiores a 1000 € mensuales. Escribir un programa que pregunte al usuario su edad y sus ingresos mensuales y muestre por pantalla si el usuario tiene que tributar o no."
      ]
    },
    {
      "cell_type": "code",
      "execution_count": null,
      "metadata": {
        "id": "Exp74ghG8Oe1"
      },
      "outputs": [],
      "source": []
    },
    {
      "cell_type": "code",
      "execution_count": null,
      "metadata": {
        "id": "82UdN---8OlY"
      },
      "outputs": [],
      "source": []
    },
    {
      "cell_type": "markdown",
      "metadata": {
        "id": "q3MApV2l8OzU"
      },
      "source": [
        "## Ejercicio 10 - CONDICIONALES\n",
        "\n",
        "Los tramos impositivos para la declaración de la renta en un determinado país son los siguientes:\n",
        "\n",
        "|         Renta          | Tipo impositivo |\n",
        "| :--------------------: | :-------------: |\n",
        "|    Menos de 10000€     |       5%        |\n",
        "| Entre 10000€ y 20000€  |       15%       |\n",
        "| Entre 20001€ y 35000€  |       20%       |\n",
        "| Entre 35001€ y 60000€  |       30%       |\n",
        "|     Más de 60000€      |       45%       |\n",
        "\n",
        "Escribir un programa que pregunte al usuario su renta anual y muestre por pantalla lo que tiene que pagar."
      ]
    },
    {
      "cell_type": "code",
      "execution_count": null,
      "metadata": {
        "id": "qHCst6sn8bWB"
      },
      "outputs": [],
      "source": []
    },
    {
      "cell_type": "code",
      "execution_count": null,
      "metadata": {
        "id": "u3Uk8ycRtm0n"
      },
      "outputs": [],
      "source": []
    },
    {
      "cell_type": "code",
      "execution_count": null,
      "metadata": {
        "id": "7QWHbVEP8bfu"
      },
      "outputs": [],
      "source": []
    },
    {
      "cell_type": "markdown",
      "metadata": {
        "id": "1CBP2ZBz8epU"
      },
      "source": [
        "## Ejercicio 11 - CONDICIONALES\n",
        "\n",
        "En una determinada empresa, sus empleados son evaluados al final de cada año. Los puntos que pueden obtener en la evaluación comienzan en 0.0 y pueden ir aumentando, traduciéndose en mejores beneficios.\n",
        "Los puntos que pueden conseguir los empleados pueden ser 0.0, 0.4. o 0.6, pero no valores intermedios entre las cifras mencionadas.\n",
        "A continuación se muestra una tabla con los niveles correspondientes a cada puntuación.\n",
        "La cantidad de dinero conseguida en cada nivel es de 2.400€ multiplicada por la puntuación del nivel.\n",
        "\n",
        "|    Nivel    | Puntuación |\n",
        "| :---------: | :--------: |\n",
        "| Inaceptable |    0.0     |\n",
        "|  Aceptable  |    0.4     |\n",
        "|  Meritorio  |    0.6     |\n",
        "\n",
        "Escribir un programa que lea la puntuación del usuario e indique su nivel de rendimiento, así como la cantidad de dinero que recibirá el usuario."
      ]
    },
    {
      "cell_type": "code",
      "execution_count": null,
      "metadata": {
        "id": "QNSaqOC28jsj"
      },
      "outputs": [],
      "source": []
    },
    {
      "cell_type": "code",
      "execution_count": null,
      "metadata": {
        "id": "Eicp0MFT8jzg"
      },
      "outputs": [],
      "source": []
    },
    {
      "cell_type": "markdown",
      "metadata": {
        "id": "i-5nDgDv8zHv"
      },
      "source": [
        "## Ejercicio 12 - CONDICIONALES\n",
        "\n",
        "\n",
        "La pizzería Bella Napoli ofrece pizzas vegetarianas y no vegetarianas a sus clientes.\n",
        "Los ingredientes para cada tipo de pizza aparecen a continuación.\n",
        "\n",
        "- Ingredientes vegetarianos: Pimiento y tofu.\n",
        "- Ingredientes no vegetarianos: Peperoni, Jamón y Salmón.\n",
        "\n",
        "Escribir un programa que pregunte al usuario si quiere una pizza vegetariana o no, y en función de su respuesta le muestre un menú con los ingredientes disponibles para que elija.\n",
        "Solo se puede eligir un ingrediente además de la mozzarella y el tomate que están en todas la pizzas.\n",
        "Al final se debe mostrar por pantalla si la pizza elegida es vegetariana o no y todos los ingredientes que lleva."
      ]
    },
    {
      "cell_type": "code",
      "execution_count": null,
      "metadata": {
        "id": "Rp_jHcoO80Ft"
      },
      "outputs": [],
      "source": []
    },
    {
      "cell_type": "code",
      "execution_count": null,
      "metadata": {
        "id": "FRcwtf8H80NT"
      },
      "outputs": [],
      "source": []
    },
    {
      "cell_type": "markdown",
      "metadata": {
        "id": "3RxIm7iW-Fb7"
      },
      "source": [
        "## Ejercicio 13 - BUCLES\n",
        "\n",
        "Escribir un programa que pida al usuario una palabra y la muestre por pantalla 10 veces."
      ]
    },
    {
      "cell_type": "code",
      "execution_count": null,
      "metadata": {
        "id": "ZIJJi9Us-KW3"
      },
      "outputs": [],
      "source": []
    },
    {
      "cell_type": "code",
      "execution_count": null,
      "metadata": {
        "id": "eQliztgv-KdM"
      },
      "outputs": [],
      "source": []
    },
    {
      "cell_type": "markdown",
      "metadata": {
        "id": "YVzbW9j3-Kwc"
      },
      "source": [
        "## Ejercicio 14 - BUCLES\n",
        "\n",
        "Escribir un programa que pregunte al usuario su edad y muestre por pantalla todos los años que ha cumplido (desde 1 hasta su edad)."
      ]
    },
    {
      "cell_type": "code",
      "execution_count": null,
      "metadata": {
        "id": "rbUPn2N0-PLX"
      },
      "outputs": [],
      "source": []
    },
    {
      "cell_type": "code",
      "execution_count": null,
      "metadata": {
        "id": "l6AgjH-c-PSK"
      },
      "outputs": [],
      "source": []
    },
    {
      "cell_type": "markdown",
      "metadata": {
        "id": "PWJGd2A6-Pbc"
      },
      "source": [
        "## Ejercicio 15 - BUCLES\n",
        "\n",
        "Escribir un programa que pida al usuario un número entero positivo y muestre por pantalla todos los números impares desde 1 hasta ese número separados por comas."
      ]
    },
    {
      "cell_type": "code",
      "execution_count": null,
      "metadata": {
        "id": "Hdew22j9-UpG"
      },
      "outputs": [],
      "source": []
    },
    {
      "cell_type": "code",
      "execution_count": null,
      "metadata": {
        "id": "O70FV_6r-Uw4"
      },
      "outputs": [],
      "source": []
    },
    {
      "cell_type": "markdown",
      "metadata": {
        "id": "qfKkLzdp-U7I"
      },
      "source": [
        "## Ejercicio 16 - BUCLES + CONDICIONALES\n",
        "\n",
        "Escribir un programa que almacene la cadena de caracteres contraseña en una variable, pregunte al usuario por la contraseña hasta que introduzca la contraseña correcta."
      ]
    },
    {
      "cell_type": "code",
      "execution_count": null,
      "metadata": {
        "id": "SkRkZFeb-aw0"
      },
      "outputs": [],
      "source": []
    },
    {
      "cell_type": "code",
      "execution_count": null,
      "metadata": {
        "id": "VglgIqZa-a5R"
      },
      "outputs": [],
      "source": []
    },
    {
      "cell_type": "markdown",
      "metadata": {
        "id": "B327ZCNE-bB9"
      },
      "source": [
        "## Ejercicio 17 - BUCLES\n",
        "\n",
        "Escribir un programa que muestre el eco de todo lo que el usuario introduzca hasta que el usuario escriba “salir” que terminará."
      ]
    },
    {
      "cell_type": "code",
      "execution_count": null,
      "metadata": {
        "id": "f5DbMG9r-jyU"
      },
      "outputs": [],
      "source": []
    },
    {
      "cell_type": "code",
      "execution_count": null,
      "metadata": {
        "id": "vfzGNMct-j1M"
      },
      "outputs": [],
      "source": []
    },
    {
      "cell_type": "markdown",
      "metadata": {
        "id": "006JUaC6-tM0"
      },
      "source": [
        "## EJERCICIO FINAL\n",
        "\n",
        "Una empresa desarrolladora de Software ha puesto a la venta licencias de su programa de edición de videos \"Video Edit 2.0\" a los siguientes costos:\n",
        "\n",
        "\n",
        "|    Licencia    | Costos |\n",
        "| :---------: | :--------: |\n",
        "| Cobre |    $510     |\n",
        "|  Bronze  |    1500     |\n",
        "|  Silver  |    3100     |\n",
        "|  Gold  |    4500     |\n",
        "\n",
        "\n",
        "Diseñe un programa que permita ingresar por cada venta el tipo de licencia y la cantidad de licencias, y muestre luego cada venta:\n",
        "\n",
        "* El importe a pagar por la venta efectuada.\n",
        "* El importe total recaudado por cada tipo de licencia.\n",
        "* La cantidad de licencias vendidas por cada tipo de licencia.\n",
        "* La cantidad de ventas por cada tipo de licencia."
      ]
    },
    {
      "cell_type": "code",
      "source": [
        "respuesta = 'Y'\n",
        "carrito = []\n",
        "while respuesta == 'Y':\n",
        "  Licencia = input('Ingresar licencia a comprar (cobre,bronce,silver,gold): ')\n",
        "  if Licencia == 'cobre':\n",
        "    costo = 510\n",
        "  elif Licencia == 'bronce':\n",
        "    costo = 1500\n",
        "  elif Licencia == 'silver':\n",
        "    costo = 3100\n",
        "  elif Licencia == 'gold':\n",
        "    costo = 4500\n",
        "  print('Licencia seleccionada : ', Licencia, '$', costo)\n",
        "  respuesta = input('Desea comprar esta licencia (Y/N): ')\n",
        "  if respuesta == 'Y':\n",
        "    qty = int(input('Cantidad de licencias a comprar: '))\n",
        "    costo_t = costo * qty\n",
        "    carrito.append(costo_t)\n",
        "    print(Licencia, ': $', costo_t)\n",
        "  elif respuesta == 'N':\n",
        "    print('Favor de volver al carrito')\n",
        "sum = sum(carrito)\n",
        "print('Total a pagar $', sum)"
      ],
      "metadata": {
        "id": "Lwi7pVIjWNSE"
      },
      "execution_count": null,
      "outputs": []
    },
    {
      "cell_type": "code",
      "execution_count": null,
      "metadata": {
        "id": "lo8UJZ0q_Se9"
      },
      "outputs": [],
      "source": [
        "cantLicencia = int(input('Ing. Cantidad de licencia: '))\n",
        "tipoLicencia = input('Ing. tipo de licencia')"
      ]
    },
    {
      "cell_type": "code",
      "source": [
        "totalBronce = 0\n",
        "totalSilver = 0\n",
        "totalGold = 0"
      ],
      "metadata": {
        "id": "j1vapam6MxG9"
      },
      "execution_count": null,
      "outputs": []
    },
    {
      "cell_type": "code",
      "execution_count": null,
      "metadata": {
        "id": "HwlyZ1os_Sl6"
      },
      "outputs": [],
      "source": [
        "if tipoLicencia = 'Bronze':\n",
        "  totalBronce = totalBronce + cantLicencia"
      ]
    }
  ],
  "metadata": {
    "colab": {
      "provenance": [],
      "include_colab_link": true
    },
    "kernelspec": {
      "display_name": "Python 3",
      "name": "python3"
    },
    "language_info": {
      "name": "python"
    }
  },
  "nbformat": 4,
  "nbformat_minor": 0
}